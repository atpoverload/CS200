{
 "cells": [
  {
   "cell_type": "markdown",
   "metadata": {},
   "source": [
    "# CS200\n",
    "\n",
    "Welcome to CS200 or Data Structures and Algorithms! These notebooks will cover the concepts behind organizing and manipulating data.\n",
    "\n",
    "## What exactly is CS200?\n",
    "\n",
    "Most college core curriculums have an introduction to algorithms course at the 200-level course for students that are considering computer science. The topics covered in this course are the building blocks for computing at all levels.\n",
    "\n",
    "## If this course is core, why are you writing this?\n",
    "\n",
    "It's true that this material has been covered by an enormous number of people. In fact, every single CS student beyond a bachelor's probably has TA'd or taught this course. I currently find myself in the situation where I do not have a class to teach despite being a longtime student. As a personal exercise, I'm writing these notebooks to not only to teach other but also myself.\n",
    "\n",
    "## How is this different than OOD/OOP?\n",
    "\n",
    "OOD/OOP is a subset of algorithms. It frequently focuses on multiple data structures that form a larger structure. All the material we cover focus on single data structures.\n",
    "\n",
    "## What do I need for this?\n",
    "\n",
    "Honestly, you do not NEED to do anything thing but read. However, if you would like to examine these problems in action, you can install python and use jupyter notebook to run the examples. Other than jupyter, none of my examples use third party packages."
   ]
  },
  {
   "cell_type": "markdown",
   "metadata": {},
   "source": [
    "# Basic Concepts\n",
    "\n",
    "Before I dive into data structures, there are some basic ideas I will go over so that you can used to the language of CS. This can be helpful when you are working with people but otherwise is just semantics.\n",
    "\n",
    "## Interface vs Implementation\n",
    "\n",
    "An interface is a contract that guarantees the behavior of something. For example, a keyboard is an interface that writes characters.\n",
    "\n",
    "An implementation implements an interface. I know that definition is recursive so just think of the implementation as the code you write to get a behavior.\n",
    "\n",
    "To sum up, interfaces are abstract, implementations are concrete.\n",
    "\n",
    "## Basic Data Types\n",
    "\n",
    "In almost all programming languages, there are two built-in constructs: arrays and structs.\n",
    "\n",
    "Arrays are an ordered collection of data. Arrays need to be allocated before use and do not support changes to the array's size without re-allocation.\n",
    "\n",
    "Structs is a collection of data organized by names. All structs of the same type have the same names so structs cannot change in size after creation.\n",
    "\n",
    "In general, structs are more expressive than arrays but are limited by the names.\n",
    "\n",
    "### Python Data Types\n",
    "\n",
    "We will be using python for this course. Unfortunately, python does have lists or structs. Instead we will be treating python's built in list and class definitions like their counterparts in C++/Java."
   ]
  },
  {
   "cell_type": "code",
   "execution_count": 2,
   "metadata": {},
   "outputs": [
    {
     "name": "stdout",
     "output_type": "stream",
     "text": [
      "[None, None, None, None, None, None, None, None, None, None]\n",
      "[0, 1, 4, 9, 16, 25, 36, 49, 64, 81]\n"
     ]
    }
   ],
   "source": [
    "# using a list like an array\n",
    "\n",
    "arr_size = 10\n",
    "arr = [None] * arr_size\n",
    "print(arr)\n",
    "\n",
    "for i in range(arr_size):\n",
    "    arr[i] = i * i\n",
    "\n",
    "print(arr)"
   ]
  },
  {
   "cell_type": "code",
   "execution_count": 7,
   "metadata": {},
   "outputs": [
    {
     "name": "stdout",
     "output_type": "stream",
     "text": [
      "0 0\n"
     ]
    }
   ],
   "source": [
    "# using a class like a struct\n",
    "\n",
    "class pair:\n",
    "    def __init__(self, a, b):\n",
    "        self.a = a\n",
    "        self.b = b\n",
    "\n",
    "p = pair(0, 1)\n",
    "print(p.a, p.a)"
   ]
  }
 ],
 "metadata": {
  "kernelspec": {
   "display_name": "Python 3",
   "language": "python",
   "name": "python3"
  },
  "language_info": {
   "codemirror_mode": {
    "name": "ipython",
    "version": 3
   },
   "file_extension": ".py",
   "mimetype": "text/x-python",
   "name": "python",
   "nbconvert_exporter": "python",
   "pygments_lexer": "ipython3",
   "version": "3.7.1"
  }
 },
 "nbformat": 4,
 "nbformat_minor": 2
}
