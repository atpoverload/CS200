{
 "cells": [
  {
   "cell_type": "markdown",
   "metadata": {},
   "source": [
    "# Linear Data\n",
    "\n",
    "The first type of data we will consider is linear data. This means the data is organized with precedence. Linear data is important because all computing operations are linear (this is a context-freedom issue, take it up with those guys). If you aren't sure, consider a stream of water. We can make a pipe to let in and out different amounts of water but even then, it'll be organized in a line (and the shape you pick will be isomorphic over the set of out holes, so don't tell me there's some ridiculous shape that will work). Ultimately, our math is not complex enough to handle something other than this.\n",
    "\n",
    "## Why is Linear Data Important?\n",
    "\n",
    "Ultimately, all data starts linearly. Cameras, text, and just about any other human construct has a single file order, usually based on time. This means we need to handle all manners of data. There are two operations that can be done on linear data:\n",
    "\n",
    "### Searching\n",
    "\n",
    "Every operation uses searching: maximum, mean, difference, even sorting. You need to find something and sometimes you'll need to look at every piece of data.\n",
    "\n",
    "### Sorting\n",
    "\n",
    "In addition to looking at data, organizing data is a commonly needed operation. In particular, sorted data is easier to search over a long period of time. In practice, most things aren't purely linear but it's important to optimize the linear data as much as possible."
   ]
  },
  {
   "cell_type": "markdown",
   "metadata": {},
   "source": [
    "## Lists\n",
    "\n",
    "The core linear adt is the list. A list is as simple as it sounds (from wikipedia):\n",
    "\n",
    "    A countable number of ordered values\n",
    "\n",
    "Lists are a very open ended data structure. A shopping list is a good example. You can move items around, add new items, and remove old ones freely. The list adt exposes the following interface:\n",
    "\n",
    "```python\n",
    "class List:\n",
    "    def at(index)\n",
    "    def insert(item, index)\n",
    "    def remove(index)\n",
    "```"
   ]
  },
  {
   "cell_type": "code",
   "execution_count": 20,
   "metadata": {},
   "outputs": [],
   "source": [
    "# adt\n",
    "class List:\n",
    "    def __init__(self): raise NotImplementedException()\n",
    "    def at(self, index): raise NotImplementedException()\n",
    "    def insert(self, item, index): raise NotImplementedException()\n",
    "    def remove(self, index): raise NotImplementedException()"
   ]
  },
  {
   "cell_type": "markdown",
   "metadata": {},
   "source": [
    "To implement this with an array, we have to keep track of the number of elements so that we can manipulate the list without leaving holes or touching empty data. We also want to track the size of the array so that we make sure we have enough space without throwing."
   ]
  },
  {
   "cell_type": "code",
   "execution_count": 18,
   "metadata": {},
   "outputs": [
    {
     "name": "stdout",
     "output_type": "stream",
     "text": [
      "9\n",
      "8\n",
      "7\n",
      "6\n",
      "5\n",
      "4\n",
      "3\n",
      "2\n",
      "1\n",
      "0\n",
      "5\n",
      "4\n",
      "3\n",
      "2\n",
      "1\n",
      "0\n"
     ]
    }
   ],
   "source": [
    "class ArrayList(List):\n",
    "    def __init__(self):\n",
    "        self.arr = [None] * 8\n",
    "        self.size = 0\n",
    "        self.capacity = 8\n",
    "    \n",
    "    def at(self, index):\n",
    "        return self.arr[index]\n",
    "    \n",
    "    def insert(self, item, index):\n",
    "        if self.size == self.capacity:\n",
    "            self.arr += [None] * 8\n",
    "            self.capacity += 8\n",
    "        \n",
    "        for i in range(self.size, index, -1):\n",
    "            self.arr[i] = self.arr[i - 1]\n",
    "        \n",
    "        self.arr[index] = item\n",
    "        self.size += 1\n",
    "        \n",
    "    def remove(self, index):\n",
    "        for i in range(index, self.size):\n",
    "            self.arr[i] = self.arr[i + 1]\n",
    "        \n",
    "        self.size -= 1\n",
    "\n",
    "l = ArrayList()\n",
    "for i in range(10):\n",
    "    l.insert(i, 0)\n",
    "\n",
    "for i in range(10):\n",
    "    print(l.at(i))\n",
    "\n",
    "for i in range(4):\n",
    "    l.remove(0)\n",
    "    \n",
    "for i in range(6):\n",
    "    print(l.at(i))"
   ]
  },
  {
   "cell_type": "markdown",
   "metadata": {},
   "source": [
    "The node implementation only requires us to keep track of a head or starting node. When we want to manipulate the list, we move to each child until we get to the correct index and then modify the node."
   ]
  },
  {
   "cell_type": "code",
   "execution_count": 19,
   "metadata": {},
   "outputs": [
    {
     "name": "stdout",
     "output_type": "stream",
     "text": [
      "9\n",
      "8\n",
      "7\n",
      "6\n",
      "5\n",
      "4\n",
      "3\n",
      "2\n",
      "1\n",
      "0\n",
      "5\n",
      "4\n",
      "3\n",
      "2\n",
      "1\n",
      "0\n"
     ]
    }
   ],
   "source": [
    "class LinkedList(List):\n",
    "    def __init__(self):\n",
    "        self.head = [None, None]\n",
    "    \n",
    "    def at(self, index):\n",
    "        self.current = self.head\n",
    "        for i in range(index):\n",
    "            self.current = self.current[1]\n",
    "        \n",
    "        return self.current[0]\n",
    "    \n",
    "    def insert(self, item, index):\n",
    "        if index == 0:\n",
    "            self.head = [item, self.head]\n",
    "        else:\n",
    "            self.parent = self.head\n",
    "            for i in range(index):\n",
    "                self.parent = self.parent[1]\n",
    "\n",
    "            self.child = self.parent[1]\n",
    "            self.parent[1] = [item, self.child]\n",
    "        \n",
    "    def remove(self, index):\n",
    "        if index == 0:\n",
    "            self.head = self.head[1]\n",
    "        else:\n",
    "            self.parent = self.head\n",
    "            for i in range(index):\n",
    "                self.parent = self.parent[1]\n",
    "\n",
    "            self.parent[1] = self.parent[1][1]\n",
    "\n",
    "l = LinkedList()\n",
    "for i in range(10):\n",
    "    l.insert(i, 0)\n",
    "\n",
    "for i in range(10):\n",
    "    print(l.at(i))\n",
    "\n",
    "for i in range(4):\n",
    "    l.remove(0)\n",
    "    \n",
    "for i in range(6):\n",
    "    print(l.at(i))"
   ]
  },
  {
   "cell_type": "markdown",
   "metadata": {},
   "source": [
    "The next question is the complexity of operations.\n",
    "\n",
    "For ```at()```:\n",
    " - arrays can immediately grab the value\n",
    " - nodes need to walk to the index\n",
    "\n",
    "For ```insert()``` and ```remove()```:\n",
    " - arrays need to shift elements to maintain order, up to the size\n",
    " - nodes only need to modify a parent node's child but it needs to find it\n",
    "\n",
    "The following table is the complexity for all operations:\n",
    "\n",
    "method| Array | Node\n",
    "-| ----- | ----\n",
    "at| O(1) | O(n)\n",
    "insert| O(n) | O(n)\n",
    "remove| O(n) | O(n)"
   ]
  },
  {
   "cell_type": "markdown",
   "metadata": {},
   "source": [
    "### Challenge Questions\n",
    "\n",
    "These implementations are a little suboptimal. Due to the nature of our implementations, linked lists look horrible.  However, these data structures frequently have extension methods to improve the performance of the data structure. Implement the following methods for both array and linked lists:\n",
    "\n",
    "```python\n",
    "class List:\n",
    "    def swap(index1, index2)\n",
    "    def preppend(item)\n",
    "    def append(item)\n",
    "```\n",
    "\n",
    "Feel free to implement other helper classes."
   ]
  },
  {
   "cell_type": "markdown",
   "metadata": {},
   "source": [
    "## Queues and Stacks\n",
    "\n",
    "Queues and stacks are helpful adts that optimize the performance of a list by restricting the operations to a subset. Pratically, queues and stacks are heavily used, even at the level of hardware and operating systems.\n",
    "\n",
    "The queue and stack adts expose the following interface:\n",
    "\n",
    "```python\n",
    "class Queue/Stack:\n",
    "    def peek()\n",
    "    def push(item)\n",
    "    def pop(index)\n",
    "```\n",
    "\n",
    "### Queues\n",
    "\n",
    "Queues are a first-in, first-out data structure. They are primarily used to maintain order, such as in messaging or as a buffer (which is a VERY common use).\n",
    "\n",
    "\n",
    "\n",
    "Stacks are first-in, last-out. They are a core part of operating systems and have pratical uses in parsing."
   ]
  },
  {
   "cell_type": "code",
   "execution_count": 21,
   "metadata": {},
   "outputs": [],
   "source": [
    "# adt\n",
    "class Queue:\n",
    "    def __init__(self): raise NotImplementedException()\n",
    "    def peek(self, index): raise NotImplementedException()\n",
    "    def push(self, item, index): raise NotImplementedException()\n",
    "    def pop(self, index): raise NotImplementedException()"
   ]
  },
  {
   "cell_type": "markdown",
   "metadata": {},
   "source": [
    "Similar to the list, the array implementation requires us to keep track of all elements added to the queue. However, we only need to keep track of a start and end index since we only need to modify those two locations."
   ]
  },
  {
   "cell_type": "code",
   "execution_count": 35,
   "metadata": {},
   "outputs": [
    {
     "name": "stdout",
     "output_type": "stream",
     "text": [
      "0\n",
      "1\n",
      "2\n",
      "3\n",
      "4\n",
      "5\n",
      "6\n",
      "7\n",
      "8\n",
      "9\n"
     ]
    }
   ],
   "source": [
    "class ArrayQueue(Queue):\n",
    "    def __init__(self):\n",
    "        self.arr = [None] * 8\n",
    "        self.capacity = 8\n",
    "        \n",
    "        self.start = None\n",
    "        self.end = None\n",
    "    \n",
    "    def peek(self):\n",
    "        return self.arr[self.start]\n",
    "    \n",
    "    def push(self, item):\n",
    "        if self.start == None:\n",
    "            self.start = 0\n",
    "            self.end = 0\n",
    "        elif self.start == self.end:\n",
    "            self.arr = self.arr[self.start:] + self.arr[:self.start] + [None] * 8\n",
    "            self.start = 0\n",
    "            self.end = self.capacity\n",
    "            self.capacity += 8\n",
    "        \n",
    "        self.arr[self.end] = item\n",
    "        self.end += 1\n",
    "        self.end %= self.capacity\n",
    "        \n",
    "    def pop(self):\n",
    "        if self.start != self.end:\n",
    "            self.start += 1\n",
    "            self.start %= self.capacity\n",
    "            return self.arr[self.start - 1]\n",
    "\n",
    "q = ArrayQueue()\n",
    "for i in range(10):\n",
    "    q.push(i)\n",
    "    \n",
    "for i in range(10):\n",
    "    print(q.pop())"
   ]
  }
 ],
 "metadata": {
  "kernelspec": {
   "display_name": "Python 3",
   "language": "python",
   "name": "python3"
  },
  "language_info": {
   "codemirror_mode": {
    "name": "ipython",
    "version": 3
   },
   "file_extension": ".py",
   "mimetype": "text/x-python",
   "name": "python",
   "nbconvert_exporter": "python",
   "pygments_lexer": "ipython3",
   "version": "3.7.3"
  }
 },
 "nbformat": 4,
 "nbformat_minor": 2
}
